{
 "cells": [
  {
   "cell_type": "code",
   "execution_count": 1,
   "metadata": {
    "jupyter": {
     "source_hidden": true
    }
   },
   "outputs": [],
   "source": [
    "import sys, os, csv\n",
    "import numpy as np\n",
    "import pandas as pd\n",
    "import timeit\n",
    "import pickle\n",
    "import theano\n",
    "import theano.tensor as T\n",
    "\n",
    "os.chdir(sys.path[0] + \"\\..\")\n",
    "\n",
    "import yaml\n",
    "\n",
    "from theano import shared, function\n",
    "from scipy import stats\n",
    "from datetime import datetime as dt\n",
    "\n",
    "from reslogit.models import Logit, ResNet, MLP\n",
    "from reslogit.core import *\n",
    "import reslogit.optimizers as optimizers"
   ]
  },
  {
   "cell_type": "code",
   "execution_count": 2,
   "metadata": {
    "jupyter": {
     "source_hidden": true
    }
   },
   "outputs": [],
   "source": [
    "# constants\n",
    "FLOATX = theano.config.floatX\n",
    "\n",
    "# read data file from .csv\n",
    "raw_data = pd.read_csv(os.getcwd() + '/data/data-20190702_2.csv')\n",
    "\n",
    "# read configuration file\n",
    "with open('config.yaml') as f:\n",
    "    config = yaml.load(f, Loader=yaml.FullLoader)\n",
    "    \n",
    "# keep track of time\n",
    "config['timestamp'] = dt.now().strftime(\"%Y-%m-%d %H:%M:%S\")\n",
    "\n",
    "# defines the inputs and output\n",
    "x_data = raw_data.iloc[:, 1:-1]\n",
    "y_data = raw_data['mode']-1  # -1 for indexing at 0\n",
    "\n",
    "# defines the list of explanatory variable names\n",
    "config['variables'] = list(x_data.columns)\n",
    "\n",
    "# number of observations\n",
    "config['n_obs'] = raw_data.shape[0] \n",
    "\n",
    "# number of variables/choices\n",
    "config['n_vars'] = x_data.shape[1]\n",
    "config['n_choices'] = len(config['choices'])\n",
    "\n",
    "# slicing index for train/valid split\n",
    "slice = np.floor(0.7*config['n_obs']).astype(int)\n",
    "config['slice'] = slice\n",
    "\n",
    "# slices x and y datasets into train/valid\n",
    "train_x_data, valid_x_data = x_data.iloc[:slice], x_data.iloc[slice:]\n",
    "train_y_data, valid_y_data = y_data.iloc[:slice], y_data.iloc[slice:]\n",
    "\n",
    "# load train/valid datasets into shared module\n",
    "train_x_shared, train_y_shared = shared_dataset(train_x_data, train_y_data)\n",
    "valid_x_shared, valid_y_shared = shared_dataset(valid_x_data, valid_y_data)\n",
    "\n",
    "# number of train/valid batches\n",
    "n_train_batches = train_y_data.shape[0] // config['batch_size']\n",
    "n_valid_batches = valid_y_data.shape[0] // config['batch_size']\n",
    "config['n_train_batches'] = n_train_batches\n",
    "config['n_valid_batches'] = n_valid_batches\n",
    "\n",
    "# Theano tensor variables\n",
    "idx = T.lscalar()  # index to [mini]batch\n",
    "# x = T.matrix('x')\n",
    "# y = T.ivector('y')"
   ]
  },
  {
   "cell_type": "code",
   "execution_count": 18,
   "metadata": {
    "jupyter": {
     "source_hidden": true
    }
   },
   "outputs": [
    {
     "name": "stdout",
     "output_type": "stream",
     "text": [
      "disaggregate point elasticity: [0.44321127 0.36173554 0.72176339 ... 0.0903231  0.27432704 0.05659311]\n",
      "aggregate point elasticity: 0.16871658272543483\n"
     ]
    },
    {
     "data": {
      "image/png": "[encoded data removed]",
      "text/plain": [
       "<Figure size 432x288 with 1 Axes>"
      ]
     },
     "metadata": {
      "needs_background": "light"
     },
     "output_type": "display_data"
    },
    {
     "name": "stdout",
     "output_type": "stream",
     "text": [
      "[(10, 0.06938737912868052), (15, 0.10021272579727793), (20, 0.12696104475195466), (25, 0.14907523141687687), (30, 0.16644398305454025), (35, 0.17931270439406827), (40, 0.18816772749003915), (45, 0.19362475829955986), (50, 0.19633584109027474), (55, 0.1969210865243905), (60, 0.19592659730057915), (65, 0.19380557594614503), (70, 0.19091718753998613), (75, 0.18753640306626193), (80, 0.18386824149075628), (85, 0.18006203153233172), (90, 0.17622376348272048), (95, 0.17242612775730876), (100, 0.16871658272543483), (105, 0.165123980570182), (110, 0.1616640613736073), (115, 0.15834384379062316), (120, 0.1551648772161679), (125, 0.15212545260443067), (130, 0.14922200750653233), (135, 0.14644999167054948), (140, 0.14380440200173533), (145, 0.14128011684795685), (150, 0.13887210142795656), (155, 0.1365755252574033), (160, 0.13438581865380703), (165, 0.13229868857395702), (170, 0.13031010908194388), (175, 0.12841629749489644), (180, 0.12661368386004732), (185, 0.12489887894792591), (190, 0.12326864418323473), (195, 0.1217198656036053), (200, 0.12024953287443489), (205, 0.11885472355228308), (210, 0.11753259219022029), (215, 0.11628036352009637), (220, 0.11509532880216371), (225, 0.11397484444892149), (230, 0.11291633214520871), (235, 0.11191727984466618), (240, 0.11097524318316909), (245, 0.1100878469891944), (250, 0.10925278668003743), (255, 0.10846782941163798), (260, 0.10773081490389055), (265, 0.10703965589968154), (270, 0.10639233824091723), (275, 0.10578692056324887), (280, 0.10522153362593255), (285, 0.10469437930554656), (290, 0.10420372929226433), (295, 0.10374792353466174)]\n"
     ]
    },
    {
     "data": {
      "image/png": "[encoded data removed]",
      "text/plain": [
       "<Figure size 432x288 with 1 Axes>"
      ]
     },
     "metadata": {
      "needs_background": "light"
     },
     "output_type": "display_data"
    }
   ],
   "source": [
    "# filename = 'ResNet16_bestmodel.pkl'\n",
    "filename = 'MNL0_bestmodel.pkl'\n",
    "\n",
    "with open(filename, 'rb') as f:\n",
    "    data = pickle.load(f)\n",
    "    \n",
    "model, config, model_stat = data\n",
    "\n",
    "batch_size = config['batch_size']\n",
    "# car:0, bike:1, transit:2, walk:3\n",
    "mode = 0\n",
    "\n",
    "dpdx = T.grad(model.output[:, mode].sum(axis=0), model.input, disconnected_inputs='ignore')\n",
    "model.point_elastic = function(\n",
    "    inputs=[],\n",
    "    outputs=[dpdx, model.output],\n",
    "    allow_input_downcast=True,\n",
    "    givens={\n",
    "        model.input: train_x_shared,\n",
    "    },\n",
    ")\n",
    "\n",
    "x_in = train_x_data.iloc[:, 10].values\n",
    "pnt_dydW, pnt_prob = model.point_elastic()\n",
    "\n",
    "point_elasticity = pnt_dydW[:, 10] * x_in/pnt_prob[:, mode]\n",
    "print('disaggregate point elasticity:', point_elasticity)\n",
    "\n",
    "agg_point_elasticity = (point_elasticity * pnt_prob[:, mode]/pnt_prob.mean(axis=0)[0]).mean()\n",
    "print('aggregate point elasticity:', agg_point_elasticity)\n",
    "\n",
    "plt.hist(point_elasticity, bins='auto', range=(-2,2))\n",
    "plt.show()\n",
    "\n",
    "list_agg_arc_el = []\n",
    "for i in range(10, 300, 5):\n",
    "    x_data_2 = raw_data.iloc[:, 1:-1]\n",
    "    x_data_2.loc[:, 'trip_dist'] = x_data_2.loc[:, 'trip_dist'] * i/100.\n",
    "    train_x_data_2, _ = x_data_2.iloc[:slice], x_data_2.iloc[slice:]\n",
    "    train_y_data_2, _ = y_data.iloc[:slice], y_data.iloc[slice:]\n",
    "    train_x_shared_2, _ = shared_dataset(train_x_data_2, train_y_data_2)\n",
    "\n",
    "    model.arc_elastic = function(\n",
    "        inputs=[],\n",
    "        outputs=[dpdx, model.output],\n",
    "        allow_input_downcast=True,\n",
    "        givens={\n",
    "            model.input: train_x_shared_2,\n",
    "        },\n",
    "    )\n",
    "\n",
    "    arc_dydW, arc_prob = model.arc_elastic()\n",
    "    # print(e_dydW, e_prob)\n",
    "    x_in = train_x_data_2.iloc[:, 10].values\n",
    "    arc_elasticity = arc_dydW[:, 10] * x_in/pnt_prob[:, mode]\n",
    "    # print('disaggregate arc elasticity:', arc_elasticity)\n",
    "\n",
    "    agg_arc_elasticity = (arc_elasticity * pnt_prob[:, mode]/pnt_prob.mean(axis=0)[0]).mean()\n",
    "    # print('aggregate point elasticity:', agg_arc_elasticity)\n",
    "    list_agg_arc_el.append((i, agg_arc_elasticity))\n",
    "\n",
    "print(list_agg_arc_el)\n",
    "\n",
    "import matplotlib.pyplot as plt\n",
    "plt.plot(*zip(*list_agg_arc_el), '.-')\n",
    "plt.show()"
   ]
  },
  {
   "cell_type": "code",
   "execution_count": 19,
   "metadata": {
    "jupyter": {
     "source_hidden": true
    }
   },
   "outputs": [
    {
     "name": "stdout",
     "output_type": "stream",
     "text": [
      "disaggregate point elasticity: [ 5.21324346  1.69844401  1.0282303  ... -0.0962727  -0.3280847\n",
      "  0.0485399 ]\n",
      "aggregate point elasticity: 0.28173498885414955\n"
     ]
    },
    {
     "data": {
      "image/png": "[encoded data removed]",
      "text/plain": [
       "<Figure size 432x288 with 1 Axes>"
      ]
     },
     "metadata": {
      "needs_background": "light"
     },
     "output_type": "display_data"
    },
    {
     "name": "stdout",
     "output_type": "stream",
     "text": [
      "[(10, -0.03316978279435882), (15, -0.05836249592380908), (20, -0.09081040261368697), (25, -0.13178521117080066), (30, -0.18318831697448046), (35, -0.24526288143209204), (40, -0.31563062794294844), (45, -0.39340346183582786), (50, -0.4697576163965992), (55, -0.5223820503992465), (60, -0.5092732996247165), (65, -0.38144866520171533), (70, -0.09085077732841544), (75, 0.3520140458537623), (80, 0.747704810648045), (85, 0.931912777679241), (90, 0.8581512841320541), (95, 0.5374833419467605), (100, 0.2817349888541495), (105, 0.12706972576856132), (110, -0.1225326011773618), (115, -0.34296327978323027), (120, -0.4921541117252561), (125, -0.5886654193783972), (130, -0.6490217992580738), (135, -0.6872825790075529), (140, -0.7139057834963382), (145, -0.7428846734805493), (150, -0.7822989836758283), (155, -0.8345359027342085), (160, -0.9016511755542996), (165, -0.9745266940985006), (170, -1.0389659433211034), (175, -1.0868391181718509), (180, -1.1221214973750782), (185, -1.1096727968642235), (190, -1.0988841901588582), (195, -1.075623115518931), (200, -1.0363886319306428), (205, -1.0097093897041147), (210, -0.9405012549983596), (215, -0.8578936495168631), (220, -0.8133894085113161), (225, -0.7660857486609299), (230, -0.620553680959554), (235, -0.521741002003764), (240, -0.46414605123887154), (245, -0.30607677149767015), (250, -0.15924169637510588), (255, -0.019882400964559677), (260, 0.15374293189989874), (265, 0.15106604770898435), (270, 0.20165393713105376), (275, 0.4919216695596635), (280, 0.5686977823458358), (285, 0.6090711084808511), (290, 0.7134346180257786), (295, 0.7385025265190737)]\n"
     ]
    },
    {
     "data": {
      "image/png": "[encoded data removed]",
      "text/plain": [
       "<Figure size 432x288 with 1 Axes>"
      ]
     },
     "metadata": {
      "needs_background": "light"
     },
     "output_type": "display_data"
    }
   ],
   "source": [
    "filename = 'ResNet16_bestmodel.pkl'\n",
    "# filename = 'MNL0_bestmodel.pkl'\n",
    "\n",
    "with open(filename, 'rb') as f:\n",
    "    data = pickle.load(f)\n",
    "    \n",
    "model, config, model_stat = data\n",
    "\n",
    "batch_size = config['batch_size']\n",
    "# car:0, bike:1, transit:2, walk:3\n",
    "mode = 0\n",
    "\n",
    "dpdx = T.grad(model.output[:, mode].sum(axis=0), model.input, disconnected_inputs='ignore')\n",
    "model.point_elastic = function(\n",
    "    inputs=[],\n",
    "    outputs=[dpdx, model.output],\n",
    "    allow_input_downcast=True,\n",
    "    givens={\n",
    "        model.input: train_x_shared,\n",
    "    },\n",
    ")\n",
    "\n",
    "x_in = train_x_data.iloc[:, 10].values\n",
    "pnt_dydW, pnt_prob = model.point_elastic()\n",
    "\n",
    "point_elasticity = pnt_dydW[:, 10] * x_in/pnt_prob[:, mode]\n",
    "print('disaggregate point elasticity:', point_elasticity)\n",
    "\n",
    "agg_point_elasticity = (point_elasticity * pnt_prob[:, mode]/pnt_prob.mean(axis=0)[0]).mean()\n",
    "print('aggregate point elasticity:', agg_point_elasticity)\n",
    "\n",
    "plt.hist(point_elasticity, bins='auto', range=(-2, 2))\n",
    "plt.show()\n",
    "\n",
    "list_agg_arc_el = []\n",
    "for i in range(10, 300, 5):\n",
    "    x_data_2 = raw_data.iloc[:, 1:-1]\n",
    "    x_data_2.loc[:, 'trip_dist'] = x_data_2.loc[:, 'trip_dist'] * i/100.\n",
    "    train_x_data_2, _ = x_data_2.iloc[:slice], x_data_2.iloc[slice:]\n",
    "    train_y_data_2, _ = y_data.iloc[:slice], y_data.iloc[slice:]\n",
    "    train_x_shared_2, _ = shared_dataset(train_x_data_2, train_y_data_2)\n",
    "\n",
    "    model.arc_elastic = function(\n",
    "        inputs=[],\n",
    "        outputs=[dpdx, model.output],\n",
    "        allow_input_downcast=True,\n",
    "        givens={\n",
    "            model.input: train_x_shared_2,\n",
    "        },\n",
    "    )\n",
    "\n",
    "    arc_dydW, arc_prob = model.arc_elastic()\n",
    "    # print(e_dydW, e_prob)\n",
    "    x_in = train_x_data_2.iloc[:, 10].values # uncomment for point elasticities\n",
    "    arc_elasticity = arc_dydW[:, 10] * x_in/pnt_prob[:, mode]\n",
    "    # print('disaggregate arc elasticity:', arc_elasticity)\n",
    "\n",
    "    agg_arc_elasticity = (arc_elasticity * pnt_prob[:, mode]/pnt_prob.mean(axis=0)[0]).mean()\n",
    "    # print('aggregate point elasticity:', agg_arc_elasticity)\n",
    "    list_agg_arc_el.append((i, agg_arc_elasticity))\n",
    "\n",
    "print(list_agg_arc_el)\n",
    "\n",
    "import matplotlib.pyplot as plt\n",
    "plt.plot(*zip(*list_agg_arc_el), '.-')\n",
    "plt.show()"
   ]
  },
  {
   "cell_type": "markdown",
   "metadata": {},
   "source": [
    "# Biking elasticity profile (ResLogit)"
   ]
  },
  {
   "cell_type": "code",
   "execution_count": 20,
   "metadata": {
    "jupyter": {
     "source_hidden": true
    }
   },
   "outputs": [
    {
     "name": "stdout",
     "output_type": "stream",
     "text": [
      "disaggregate point elasticity: [-0.5774133  -1.89426919 -0.16503811 ... -1.77636548 -1.24098381\n",
      " -0.84250869]\n",
      "aggregate point elasticity: -0.10759759827440268\n"
     ]
    },
    {
     "data": {
      "image/png": "[encoded data removed]",
      "text/plain": [
       "<Figure size 432x288 with 1 Axes>"
      ]
     },
     "metadata": {
      "needs_background": "light"
     },
     "output_type": "display_data"
    },
    {
     "name": "stdout",
     "output_type": "stream",
     "text": [
      "[(10, 0.0010691817328128987), (15, -0.003381578601330982), (20, -0.010692054112988549), (25, -0.020186712769909843), (30, -0.031066862160046723), (35, -0.042535653529857574), (40, -0.053895012584227464), (45, -0.06460132598467952), (50, -0.07428158036716423), (55, -0.08272009384745312), (60, -0.08982912017876325), (65, -0.09561485223037046), (70, -0.10014604609505198), (75, -0.10352857411557737), (80, -0.10588661189093644), (85, -0.10734975907340463), (90, -0.10804485721125064), (95, -0.1080911516456022), (100, -0.10759759827440268), (105, -0.10666150781517122), (110, -0.10536811802989171), (115, -0.10379088099007118), (120, -0.10199227345206012), (125, -0.10002491719535007), (130, -0.09793281243690784), (135, -0.09575254292748399), (140, -0.09351437587823196), (145, -0.09124322933723894), (150, -0.08895950738783914), (155, -0.08667981484210667), (160, -0.08441756587729295), (165, -0.08218350067071967), (170, -0.07998612283249851), (175, -0.07783206899088929), (180, -0.07572642044621967), (185, -0.07367296548689316), (190, -0.0716744198122611), (195, -0.06973261152462142), (200, -0.06784863629307758), (205, -0.06602298751403124), (210, -0.06425566557629792), (215, -0.06254626968301225), (220, -0.060894075097309874), (225, -0.05929809817353236), (230, -0.05775715111349087), (235, -0.05626988804386946), (240, -0.05483484373635656), (245, -0.053450466074132334), (250, -0.05211514319442288), (255, -0.050827226096096495), (260, -0.0495850473852096), (265, -0.04838693673386948), (270, -0.04723123354461326), (275, -0.04611629724101397), (280, -0.045040515543662354), (285, -0.04400231103781854), (290, -0.04300014629391056), (295, -0.04203252776378487)]\n"
     ]
    },
    {
     "data": {
      "image/png": "[encoded data removed]",
      "text/plain": [
       "<Figure size 432x288 with 1 Axes>"
      ]
     },
     "metadata": {
      "needs_background": "light"
     },
     "output_type": "display_data"
    }
   ],
   "source": [
    "# filename = 'ResNet16_bestmodel.pkl'\n",
    "filename = 'MNL0_bestmodel.pkl'\n",
    "\n",
    "with open(filename, 'rb') as f:\n",
    "    data = pickle.load(f)\n",
    "    \n",
    "model, config, model_stat = data\n",
    "\n",
    "batch_size = config['batch_size']\n",
    "# car:0, bike:1, transit:2, walk:3\n",
    "mode = 1\n",
    "\n",
    "dpdx = T.grad(model.output[:, mode].sum(axis=0), model.input, disconnected_inputs='ignore')\n",
    "model.point_elastic = function(\n",
    "    inputs=[],\n",
    "    outputs=[dpdx, model.output],\n",
    "    allow_input_downcast=True,\n",
    "    givens={\n",
    "        model.input: train_x_shared,\n",
    "    },\n",
    ")\n",
    "\n",
    "x_in = train_x_data.iloc[:, 10].values\n",
    "pnt_dydW, pnt_prob = model.point_elastic()\n",
    "\n",
    "point_elasticity = pnt_dydW[:, 10] * x_in/pnt_prob[:, mode]\n",
    "print('disaggregate point elasticity:', point_elasticity)\n",
    "\n",
    "agg_point_elasticity = (point_elasticity * pnt_prob[:, mode]/pnt_prob.mean(axis=0)[0]).mean()\n",
    "print('aggregate point elasticity:', agg_point_elasticity)\n",
    "\n",
    "plt.hist(point_elasticity, bins='auto', range=(-2,2))\n",
    "plt.show()\n",
    "\n",
    "list_agg_arc_el = []\n",
    "for i in range(10, 300, 5):\n",
    "    x_data_2 = raw_data.iloc[:, 1:-1]\n",
    "    x_data_2.loc[:, 'trip_dist'] = x_data_2.loc[:, 'trip_dist'] * i/100.\n",
    "    train_x_data_2, _ = x_data_2.iloc[:slice], x_data_2.iloc[slice:]\n",
    "    train_y_data_2, _ = y_data.iloc[:slice], y_data.iloc[slice:]\n",
    "    train_x_shared_2, _ = shared_dataset(train_x_data_2, train_y_data_2)\n",
    "\n",
    "    model.arc_elastic = function(\n",
    "        inputs=[],\n",
    "        outputs=[dpdx, model.output],\n",
    "        allow_input_downcast=True,\n",
    "        givens={\n",
    "            model.input: train_x_shared_2,\n",
    "        },\n",
    "    )\n",
    "\n",
    "    arc_dydW, arc_prob = model.arc_elastic()\n",
    "    # print(e_dydW, e_prob)\n",
    "    x_in = train_x_data_2.iloc[:, 10].values # uncomment for point elasticities\n",
    "    arc_elasticity = arc_dydW[:, 10] * x_in/pnt_prob[:, mode]\n",
    "    # print('disaggregate arc elasticity:', arc_elasticity)\n",
    "\n",
    "    agg_arc_elasticity = (arc_elasticity * pnt_prob[:, mode]/pnt_prob.mean(axis=0)[0]).mean()\n",
    "    # print('aggregate point elasticity:', agg_arc_elasticity)\n",
    "    list_agg_arc_el.append((i, agg_arc_elasticity))\n",
    "\n",
    "print(list_agg_arc_el)\n",
    "\n",
    "import matplotlib.pyplot as plt\n",
    "plt.plot(*zip(*list_agg_arc_el), '.-')\n",
    "plt.show()"
   ]
  },
  {
   "cell_type": "markdown",
   "metadata": {},
   "source": [
    "# Biking elasticity profile (ResLogit)"
   ]
  },
  {
   "cell_type": "code",
   "execution_count": 21,
   "metadata": {
    "jupyter": {
     "source_hidden": true
    }
   },
   "outputs": [
    {
     "name": "stdout",
     "output_type": "stream",
     "text": [
      "disaggregate point elasticity: [ -3.94202742 -27.65894672   0.2870916  ...  -5.60750754  -6.32242448\n",
      "  -3.92456661]\n",
      "aggregate point elasticity: -0.6193844078276267\n"
     ]
    },
    {
     "data": {
      "image/png": "[encoded data removed]",
      "text/plain": [
       "<Figure size 432x288 with 1 Axes>"
      ]
     },
     "metadata": {
      "needs_background": "light"
     },
     "output_type": "display_data"
    },
    {
     "name": "stdout",
     "output_type": "stream",
     "text": [
      "[(10, 0.013746798184873616), (15, 0.024510706420079024), (20, 0.039483481421657494), (25, 0.06072204167101979), (30, 0.09078138956072791), (35, 0.13215725020798705), (40, 0.18531921989499392), (45, 0.2531831274722667), (50, 0.3303676427416305), (55, 0.40237195670010073), (60, 0.4331128483812452), (65, 0.3674767289398803), (70, 0.13591213733498986), (75, -0.3087272248887395), (80, -0.7935836863796196), (85, -1.0918541716713381), (90, -1.0860347121091005), (95, -0.8016590554208315), (100, -0.6193844078276266), (105, -0.5324468954891406), (110, -0.3201908561109843), (115, -0.17277234863477883), (120, -0.10318935747121483), (125, -0.07021046769111912), (130, -0.05347136730619944), (135, -0.04465771043878067), (140, -0.04172078104856849), (145, -0.0393768836072385), (150, -0.03826257092816975), (155, -0.03804270853734245), (160, -0.03812852190494648), (165, -0.03815302116402911), (170, -0.03799985636668598), (175, -0.03758930009417926), (180, -0.03594032451782647), (185, -0.03410660335071973), (190, -0.03439219136537011), (195, -0.0318138122333459), (200, -0.028482553170898733), (205, -0.027068420925352703), (210, -0.027221618173478502), (215, -0.02906077775049522), (220, -0.029490726549043403), (225, -0.028930608896665946), (230, -0.029241333765305005), (235, -0.0299647352682478), (240, -0.03014581222030359), (245, -0.029143228301192464), (250, -0.027127136200304918), (255, -0.025910307972288844), (260, -0.025145100808985216), (265, -0.02452631658992646), (270, -0.023640029509967343), (275, -0.02259167735336852), (280, -0.02175235006442288), (285, -0.021405003359719715), (290, -0.02158752221401215), (295, -0.02162386736513972)]\n"
     ]
    },
    {
     "data": {
      "image/png": "[encoded data removed]",
      "text/plain": [
       "<Figure size 432x288 with 1 Axes>"
      ]
     },
     "metadata": {
      "needs_background": "light"
     },
     "output_type": "display_data"
    }
   ],
   "source": [
    "filename = 'ResNet16_bestmodel.pkl'\n",
    "# filename = 'MNL0_bestmodel.pkl'\n",
    "\n",
    "with open(filename, 'rb') as f:\n",
    "    data = pickle.load(f)\n",
    "    \n",
    "model, config, model_stat = data\n",
    "\n",
    "batch_size = config['batch_size']\n",
    "# car:0, bike:1, transit:2, walk:3\n",
    "mode = 1\n",
    "\n",
    "dpdx = T.grad(model.output[:, mode].sum(axis=0), model.input, disconnected_inputs='ignore')\n",
    "model.point_elastic = function(\n",
    "    inputs=[],\n",
    "    outputs=[dpdx, model.output],\n",
    "    allow_input_downcast=True,\n",
    "    givens={\n",
    "        model.input: train_x_shared,\n",
    "    },\n",
    ")\n",
    "\n",
    "x_in = train_x_data.iloc[:, 10].values\n",
    "pnt_dydW, pnt_prob = model.point_elastic()\n",
    "\n",
    "point_elasticity = pnt_dydW[:, 10] * x_in/pnt_prob[:, mode]\n",
    "print('disaggregate point elasticity:', point_elasticity)\n",
    "\n",
    "agg_point_elasticity = (point_elasticity * pnt_prob[:, mode]/pnt_prob.mean(axis=0)[0]).mean()\n",
    "print('aggregate point elasticity:', agg_point_elasticity)\n",
    "\n",
    "plt.hist(point_elasticity, bins='auto', range=(-2,2))\n",
    "plt.show()\n",
    "\n",
    "list_agg_arc_el = []\n",
    "for i in range(10, 300, 5):\n",
    "    x_data_2 = raw_data.iloc[:, 1:-1]\n",
    "    x_data_2.loc[:, 'trip_dist'] = x_data_2.loc[:, 'trip_dist'] * i/100.\n",
    "    train_x_data_2, _ = x_data_2.iloc[:slice], x_data_2.iloc[slice:]\n",
    "    train_y_data_2, _ = y_data.iloc[:slice], y_data.iloc[slice:]\n",
    "    train_x_shared_2, _ = shared_dataset(train_x_data_2, train_y_data_2)\n",
    "\n",
    "    model.arc_elastic = function(\n",
    "        inputs=[],\n",
    "        outputs=[dpdx, model.output],\n",
    "        allow_input_downcast=True,\n",
    "        givens={\n",
    "            model.input: train_x_shared_2,\n",
    "        },\n",
    "    )\n",
    "\n",
    "    arc_dydW, arc_prob = model.arc_elastic()\n",
    "    # print(e_dydW, e_prob)\n",
    "    x_in = train_x_data_2.iloc[:, 10].values # uncomment for point elasticities\n",
    "    arc_elasticity = arc_dydW[:, 10] * x_in/pnt_prob[:, mode]\n",
    "    # print('disaggregate arc elasticity:', arc_elasticity)\n",
    "\n",
    "    agg_arc_elasticity = (arc_elasticity * pnt_prob[:, mode]/pnt_prob.mean(axis=0)[0]).mean()\n",
    "    # print('aggregate point elasticity:', agg_arc_elasticity)\n",
    "    list_agg_arc_el.append((i, agg_arc_elasticity))\n",
    "\n",
    "print(list_agg_arc_el)\n",
    "\n",
    "import matplotlib.pyplot as plt\n",
    "plt.plot(*zip(*list_agg_arc_el), '.-')\n",
    "plt.show()"
   ]
  },
  {
   "cell_type": "markdown",
   "metadata": {},
   "source": [
    "# Transit elasticity profile (MNL)"
   ]
  },
  {
   "cell_type": "code",
   "execution_count": 22,
   "metadata": {
    "jupyter": {
     "source_hidden": true
    }
   },
   "outputs": [
    {
     "name": "stdout",
     "output_type": "stream",
     "text": [
      "disaggregate point elasticity: [ 0.38228234  0.22705727  0.66882339 ... -0.0211139   0.18386648\n",
      "  0.0029188 ]\n",
      "aggregate point elasticity: 0.08412625875737008\n"
     ]
    },
    {
     "data": {
      "image/png": "[encoded data removed]",
      "text/plain": [
       "<Figure size 432x288 with 1 Axes>"
      ]
     },
     "metadata": {
      "needs_background": "light"
     },
     "output_type": "display_data"
    },
    {
     "name": "stdout",
     "output_type": "stream",
     "text": [
      "[(10, 0.02647383794688745), (15, 0.03946138440244867), (20, 0.05164517315024654), (25, 0.06263787912295717), (30, 0.072166844786426), (35, 0.08008611098253955), (40, 0.0863690218080939), (45, 0.09108553003496522), (50, 0.09437121427530677), (55, 0.09639669707538377), (60, 0.09734383908555835), (65, 0.09739046225693031), (70, 0.09670193474775764), (75, 0.09542687023997441), (80, 0.09369506419732097), (85, 0.09161692814572245), (90, 0.08928378835894306), (95, 0.0867684603195844), (100, 0.08412625875737008), (105, 0.08139704307284629), (110, 0.0786083866043998), (115, 0.07577921600408302), (120, 0.07292306611458513), (125, 0.07005043132252052), (130, 0.06717015580787963), (135, 0.06429009415325022), (140, 0.061417340325942), (145, 0.058558258185063314), (150, 0.05571845216780254), (155, 0.05290274479616014), (160, 0.05011518551567732), (165, 0.047359093362368765), (170, 0.044637125275446374), (175, 0.041951358198962875), (180, 0.0393033740096082), (185, 0.036694339526111654), (190, 0.034125077446701714), (195, 0.03159612686272986), (200, 0.029107793685915328), (205, 0.026660192099851605), (210, 0.02425327835998598), (215, 0.021886878220994426), (220, 0.019560709144363624), (225, 0.01727439830601294), (230, 0.015027497298328158), (235, 0.012819494295787826), (240, 0.010649824321248877), (245, 0.00851787811140731), (250, 0.006423009942462483), (255, 0.004364544651231276), (260, 0.002341783982728114), (265, 0.00035401231897193785), (270, -0.0015994982025722374), (275, -0.003519483191340677), (280, -0.005406682134191984), (285, -0.007261835144067652), (290, -0.009085680292785437), (295, -0.010878951470312962)]\n"
     ]
    },
    {
     "data": {
      "image/png": "[encoded data removed]",
      "text/plain": [
       "<Figure size 432x288 with 1 Axes>"
      ]
     },
     "metadata": {
      "needs_background": "light"
     },
     "output_type": "display_data"
    }
   ],
   "source": [
    "# filename = 'ResNet16_bestmodel.pkl'\n",
    "filename = 'MNL0_bestmodel.pkl'\n",
    "\n",
    "with open(filename, 'rb') as f:\n",
    "    data = pickle.load(f)\n",
    "    \n",
    "model, config, model_stat = data\n",
    "\n",
    "batch_size = config['batch_size']\n",
    "# car:0, bike:1, transit:2, walk:3\n",
    "mode = 2\n",
    "\n",
    "dpdx = T.grad(model.output[:, mode].sum(axis=0), model.input, disconnected_inputs='ignore')\n",
    "model.point_elastic = function(\n",
    "    inputs=[],\n",
    "    outputs=[dpdx, model.output],\n",
    "    allow_input_downcast=True,\n",
    "    givens={\n",
    "        model.input: train_x_shared,\n",
    "    },\n",
    ")\n",
    "\n",
    "x_in = train_x_data.iloc[:, 10].values\n",
    "pnt_dydW, pnt_prob = model.point_elastic()\n",
    "\n",
    "point_elasticity = pnt_dydW[:, 10] * x_in/pnt_prob[:, mode]\n",
    "print('disaggregate point elasticity:', point_elasticity)\n",
    "\n",
    "agg_point_elasticity = (point_elasticity * pnt_prob[:, mode]/pnt_prob.mean(axis=0)[0]).mean()\n",
    "print('aggregate point elasticity:', agg_point_elasticity)\n",
    "\n",
    "plt.hist(point_elasticity, bins='auto', range=(-2,2))\n",
    "plt.show()\n",
    "\n",
    "list_agg_arc_el = []\n",
    "for i in range(10, 300, 5):\n",
    "    x_data_2 = raw_data.iloc[:, 1:-1]\n",
    "    x_data_2.loc[:, 'trip_dist'] = x_data_2.loc[:, 'trip_dist'] * i/100.\n",
    "    train_x_data_2, _ = x_data_2.iloc[:slice], x_data_2.iloc[slice:]\n",
    "    train_y_data_2, _ = y_data.iloc[:slice], y_data.iloc[slice:]\n",
    "    train_x_shared_2, _ = shared_dataset(train_x_data_2, train_y_data_2)\n",
    "\n",
    "    model.arc_elastic = function(\n",
    "        inputs=[],\n",
    "        outputs=[dpdx, model.output],\n",
    "        allow_input_downcast=True,\n",
    "        givens={\n",
    "            model.input: train_x_shared_2,\n",
    "        },\n",
    "    )\n",
    "\n",
    "    arc_dydW, arc_prob = model.arc_elastic()\n",
    "    # print(e_dydW, e_prob)\n",
    "    x_in = train_x_data_2.iloc[:, 10].values # uncomment for point elasticities\n",
    "    arc_elasticity = arc_dydW[:, 10] * x_in/pnt_prob[:, mode]\n",
    "    # print('disaggregate arc elasticity:', arc_elasticity)\n",
    "\n",
    "    agg_arc_elasticity = (arc_elasticity * pnt_prob[:, mode]/pnt_prob.mean(axis=0)[0]).mean()\n",
    "    # print('aggregate point elasticity:', agg_arc_elasticity)\n",
    "    list_agg_arc_el.append((i, agg_arc_elasticity))\n",
    "\n",
    "print(list_agg_arc_el)\n",
    "\n",
    "import matplotlib.pyplot as plt\n",
    "plt.plot(*zip(*list_agg_arc_el), '.-')\n",
    "plt.show()"
   ]
  },
  {
   "cell_type": "markdown",
   "metadata": {},
   "source": [
    "# Transit elasticity profile (ResLogit)"
   ]
  },
  {
   "cell_type": "code",
   "execution_count": 23,
   "metadata": {
    "jupyter": {
     "source_hidden": true
    }
   },
   "outputs": [
    {
     "name": "stdout",
     "output_type": "stream",
     "text": [
      "disaggregate point elasticity: [ 1.23072117 -3.21580494  1.79645551 ...  1.51276954  0.66931398\n",
      "  0.22346196]\n",
      "aggregate point elasticity: 0.3038443355724595\n"
     ]
    },
    {
     "data": {
      "image/png": "[encoded data removed]",
      "text/plain": [
       "<Figure size 432x288 with 1 Axes>"
      ]
     },
     "metadata": {
      "needs_background": "light"
     },
     "output_type": "display_data"
    },
    {
     "name": "stdout",
     "output_type": "stream",
     "text": [
      "[(10, 0.01810211035997991), (15, 0.03065802036856037), (20, 0.045803499602277704), (25, 0.06341611152708092), (30, 0.0831161511795494), (35, 0.10411338612344968), (40, 0.12521409104458583), (45, 0.14395568188194527), (50, 0.15745823770799236), (55, 0.16002203526049358), (60, 0.14387911554210825), (65, 0.10886452811427272), (70, 0.06657216447551736), (75, 0.057895568927522574), (80, 0.11473188220674028), (85, 0.19355599726430103), (90, 0.23169232873241571), (95, 0.2480624346840854), (100, 0.30384433557245943), (105, 0.35622400725732467), (110, 0.3901797423767268), (115, 0.4654621487407726), (120, 0.5551745446023288), (125, 0.6373918751640957), (130, 0.7067081009403611), (135, 0.7627719711617811), (140, 0.815503341858196), (145, 0.871179112150612), (150, 0.9367792024892037), (155, 1.008175980300248), (160, 1.0908303403985828), (165, 1.1693620783429435), (170, 1.2586882702984192), (175, 1.3202233786272262), (180, 1.355347785695482), (185, 1.3552972663942116), (190, 1.330837166015136), (195, 1.2496047615427501), (200, 1.1941876984860742), (205, 1.1047627344316973), (210, 0.9101419231661191), (215, 0.8511357194659935), (220, 0.7209861142506104), (225, 0.5901320803538439), (230, 0.5155590279272769), (235, 0.43726194825188686), (240, 0.27714205781540463), (245, 0.033815121794431476), (250, -0.15726134989498503), (255, -0.3496635785330499), (260, -0.5175319607629768), (265, -0.7527425515367929), (270, -0.9175335519162147), (275, -0.9835029766429215), (280, -1.0627270813903782), (285, -0.9823559665084862), (290, -1.1342847771411806), (295, -1.000745278461232)]\n"
     ]
    },
    {
     "data": {
      "image/png": "[encoded data removed]",
      "text/plain": [
       "<Figure size 432x288 with 1 Axes>"
      ]
     },
     "metadata": {
      "needs_background": "light"
     },
     "output_type": "display_data"
    }
   ],
   "source": [
    "filename = 'ResNet16_bestmodel.pkl'\n",
    "# filename = 'MNL0_bestmodel.pkl'\n",
    "\n",
    "with open(filename, 'rb') as f:\n",
    "    data = pickle.load(f)\n",
    "    \n",
    "model, config, model_stat = data\n",
    "\n",
    "batch_size = config['batch_size']\n",
    "# car:0, bike:1, transit:2, walk:3\n",
    "mode = 2\n",
    "\n",
    "dpdx = T.grad(model.output[:, mode].sum(axis=0), model.input, disconnected_inputs='ignore')\n",
    "model.point_elastic = function(\n",
    "    inputs=[],\n",
    "    outputs=[dpdx, model.output],\n",
    "    allow_input_downcast=True,\n",
    "    givens={\n",
    "        model.input: train_x_shared,\n",
    "    },\n",
    ")\n",
    "\n",
    "x_in = train_x_data.iloc[:, 10].values\n",
    "pnt_dydW, pnt_prob = model.point_elastic()\n",
    "\n",
    "point_elasticity = pnt_dydW[:, 10] * x_in/pnt_prob[:, mode]\n",
    "print('disaggregate point elasticity:', point_elasticity)\n",
    "\n",
    "agg_point_elasticity = (point_elasticity * pnt_prob[:, mode]/pnt_prob.mean(axis=0)[0]).mean()\n",
    "print('aggregate point elasticity:', agg_point_elasticity)\n",
    "\n",
    "plt.hist(point_elasticity, bins='auto', range=(-2,2))\n",
    "plt.show()\n",
    "\n",
    "list_agg_arc_el = []\n",
    "for i in range(10, 300, 5):\n",
    "    x_data_2 = raw_data.iloc[:, 1:-1]\n",
    "    x_data_2.loc[:, 'trip_dist'] = x_data_2.loc[:, 'trip_dist'] * i/100.\n",
    "    train_x_data_2, _ = x_data_2.iloc[:slice], x_data_2.iloc[slice:]\n",
    "    train_y_data_2, _ = y_data.iloc[:slice], y_data.iloc[slice:]\n",
    "    train_x_shared_2, _ = shared_dataset(train_x_data_2, train_y_data_2)\n",
    "\n",
    "    model.arc_elastic = function(\n",
    "        inputs=[],\n",
    "        outputs=[dpdx, model.output],\n",
    "        allow_input_downcast=True,\n",
    "        givens={\n",
    "            model.input: train_x_shared_2,\n",
    "        },\n",
    "    )\n",
    "\n",
    "    arc_dydW, arc_prob = model.arc_elastic()\n",
    "    # print(e_dydW, e_prob)\n",
    "    x_in = train_x_data_2.iloc[:, 10].values # uncomment for point elasticities\n",
    "    arc_elasticity = arc_dydW[:, 10] * x_in/pnt_prob[:, mode]\n",
    "    # print('disaggregate arc elasticity:', arc_elasticity)\n",
    "\n",
    "    agg_arc_elasticity = (arc_elasticity * pnt_prob[:, mode]/pnt_prob.mean(axis=0)[0]).mean()\n",
    "    # print('aggregate point elasticity:', agg_arc_elasticity)\n",
    "    list_agg_arc_el.append((i, agg_arc_elasticity))\n",
    "\n",
    "print(list_agg_arc_el)\n",
    "\n",
    "import matplotlib.pyplot as plt\n",
    "plt.plot(*zip(*list_agg_arc_el), '.-')\n",
    "plt.show()"
   ]
  },
  {
   "cell_type": "markdown",
   "metadata": {},
   "source": [
    "# Walking elasticity profile (MNL)"
   ]
  },
  {
   "cell_type": "code",
   "execution_count": 24,
   "metadata": {
    "jupyter": {
     "source_hidden": true
    }
   },
   "outputs": [
    {
     "name": "stdout",
     "output_type": "stream",
     "text": [
      "disaggregate point elasticity: [-2.29176668 -5.68370306 -1.65460753 ... -4.91186108 -3.78626671\n",
      " -2.35273902]\n",
      "aggregate point elasticity: -0.13806143840006532\n"
     ]
    },
    {
     "data": {
      "image/png": "[encoded data removed]",
      "text/plain": [
       "<Figure size 432x288 with 1 Axes>"
      ]
     },
     "metadata": {
      "needs_background": "light"
     },
     "output_type": "display_data"
    },
    {
     "name": "stdout",
     "output_type": "stream",
     "text": [
      "[(10, -0.10360510251186096), (15, -0.14550189941891328), (20, -0.17897121153512818), (25, -0.20370726888408439), (30, -0.22014879740526005), (35, -0.22926395470738117), (40, -0.23231227504655916), (45, -0.23063705063969084), (50, -0.2255109679193755), (55, -0.21804113498842218), (60, -0.20912787013199), (65, -0.19946342657590196), (70, -0.18955506354633714), (75, -0.17975836866470626), (80, -0.17031069612463365), (85, -0.16135987679002792), (90, -0.15298684165315152), (95, -0.14522260968677897), (100, -0.13806143840006532), (105, -0.1314721228830771), (110, -0.12540821966053017), (115, -0.11981670647997268), (120, -0.1146443329171116), (125, -0.10984146909849186), (130, -0.1053638874506802), (135, -0.10117318356782952), (140, -0.09723647039019472), (145, -0.09352576710555617), (150, -0.09001731097293303), (155, -0.0866908997056901), (160, -0.08352930970503686), (165, -0.08051780356960618), (170, -0.07764372277197225), (175, -0.07489615279169388), (180, -0.0722656461105771), (185, -0.06974399064333563), (190, -0.06732401460723257), (195, -0.06499942171199295), (200, -0.06276465229274902), (205, -0.06061476682425827), (210, -0.05854534859886406), (215, -0.05655242258656436), (220, -0.05463238779525577), (225, -0.05278196083270562), (230, -0.05099812878508971), (235, -0.04927810990566581), (240, -0.04761932090972115), (245, -0.04601934988702694), (250, -0.044475933982830326), (255, -0.04298694108710583), (260, -0.04155035483528894), (265, -0.040164262282902735), (270, -0.0388268436841137), (275, -0.03753636388473016), (280, -0.03629116493116033), (285, -0.03508965959180082), (290, -0.03393032557804643), (295, -0.03281170033107317)]\n"
     ]
    },
    {
     "data": {
      "image/png": "[encoded data removed]",
      "text/plain": [
       "<Figure size 432x288 with 1 Axes>"
      ]
     },
     "metadata": {
      "needs_background": "light"
     },
     "output_type": "display_data"
    }
   ],
   "source": [
    "# filename = 'ResNet16_bestmodel.pkl'\n",
    "filename = 'MNL0_bestmodel.pkl'\n",
    "\n",
    "with open(filename, 'rb') as f:\n",
    "    data = pickle.load(f)\n",
    "    \n",
    "model, config, model_stat = data\n",
    "\n",
    "batch_size = config['batch_size']\n",
    "# car:0, bike:1, transit:2, walk:3\n",
    "mode = 3\n",
    "\n",
    "dpdx = T.grad(model.output[:, mode].sum(axis=0), model.input, disconnected_inputs='ignore')\n",
    "model.point_elastic = function(\n",
    "    inputs=[],\n",
    "    outputs=[dpdx, model.output],\n",
    "    allow_input_downcast=True,\n",
    "    givens={\n",
    "        model.input: train_x_shared,\n",
    "    },\n",
    ")\n",
    "\n",
    "x_in = train_x_data.iloc[:, 10].values\n",
    "pnt_dydW, pnt_prob = model.point_elastic()\n",
    "\n",
    "point_elasticity = pnt_dydW[:, 10] * x_in/pnt_prob[:, mode]\n",
    "print('disaggregate point elasticity:', point_elasticity)\n",
    "\n",
    "agg_point_elasticity = (point_elasticity * pnt_prob[:, mode]/pnt_prob.mean(axis=0)[0]).mean()\n",
    "print('aggregate point elasticity:', agg_point_elasticity)\n",
    "\n",
    "plt.hist(point_elasticity, bins='auto', range=(-2,2))\n",
    "plt.show()\n",
    "\n",
    "list_agg_arc_el = []\n",
    "for i in range(10, 300, 5):\n",
    "    x_data_2 = raw_data.iloc[:, 1:-1]\n",
    "    x_data_2.loc[:, 'trip_dist'] = x_data_2.loc[:, 'trip_dist'] * i/100.\n",
    "    train_x_data_2, _ = x_data_2.iloc[:slice], x_data_2.iloc[slice:]\n",
    "    train_y_data_2, _ = y_data.iloc[:slice], y_data.iloc[slice:]\n",
    "    train_x_shared_2, _ = shared_dataset(train_x_data_2, train_y_data_2)\n",
    "\n",
    "    model.arc_elastic = function(\n",
    "        inputs=[],\n",
    "        outputs=[dpdx, model.output],\n",
    "        allow_input_downcast=True,\n",
    "        givens={\n",
    "            model.input: train_x_shared_2,\n",
    "        },\n",
    "    )\n",
    "\n",
    "    arc_dydW, arc_prob = model.arc_elastic()\n",
    "    # print(e_dydW, e_prob)\n",
    "    x_in = train_x_data_2.iloc[:, 10].values # uncomment for point elasticities\n",
    "    arc_elasticity = arc_dydW[:, 10] * x_in/pnt_prob[:, mode]\n",
    "    # print('disaggregate arc elasticity:', arc_elasticity)\n",
    "\n",
    "    agg_arc_elasticity = (arc_elasticity * pnt_prob[:, mode]/pnt_prob.mean(axis=0)[0]).mean()\n",
    "    # print('aggregate point elasticity:', agg_arc_elasticity)\n",
    "    list_agg_arc_el.append((i, agg_arc_elasticity))\n",
    "\n",
    "print(list_agg_arc_el)\n",
    "\n",
    "import matplotlib.pyplot as plt\n",
    "plt.plot(*zip(*list_agg_arc_el), '.-')\n",
    "plt.show()"
   ]
  },
  {
   "cell_type": "markdown",
   "metadata": {},
   "source": [
    "# Walking elasticity profile (ResLogit)"
   ]
  },
  {
   "cell_type": "code",
   "execution_count": 25,
   "metadata": {
    "jupyter": {
     "source_hidden": true
    }
   },
   "outputs": [
    {
     "name": "stdout",
     "output_type": "stream",
     "text": [
      "disaggregate point elasticity: [ -3.44002333 -15.33393154  -4.50925149 ...  -0.07898129  -1.9233613\n",
      "  -1.24421557]\n",
      "aggregate point elasticity: -0.07327410953141883\n"
     ]
    },
    {
     "data": {
      "image/png": "[encoded data removed]",
      "text/plain": [
       "<Figure size 432x288 with 1 Axes>"
      ]
     },
     "metadata": {
      "needs_background": "light"
     },
     "output_type": "display_data"
    },
    {
     "name": "stdout",
     "output_type": "stream",
     "text": [
      "[(10, -0.004435490486991937), (15, -0.0061291439770815356), (20, -0.007589984172989016), (25, -0.00910865714286656), (30, -0.010390551919759218), (35, -0.012200556000975275), (40, -0.015346497728259691), (45, -0.019884295323269442), (50, -0.024986793132473057), (55, -0.03162171032595694), (60, -0.03894052631161822), (65, -0.04666444271595938), (70, -0.05482403787443897), (75, -0.06134088381543353), (80, -0.067576852590509), (85, -0.0706943220157924), (90, -0.07286383446512364), (95, -0.073023974968876), (100, -0.07327410953141883), (105, -0.0739672867986423), (110, -0.07420084138842332), (115, -0.07344086445314815), (120, -0.07233226596336323), (125, -0.07077118470701949), (130, -0.06908152669716425), (135, -0.06418820943433984), (140, -0.060500946176403135), (145, -0.057605721633797694), (150, -0.055063565126371616), (155, -0.04729621219623386), (160, -0.0386130664573788), (165, -0.023429799811829796), (170, -0.031352226896601096), (175, -0.03232998362545465), (180, -0.024876283549346966), (185, -0.03417464538699391), (190, -0.01883798753881326), (195, 0.0350445721430517), (200, 0.04431715815492968), (205, 0.10063849906760794), (210, 0.22049999554721328), (215, 0.1925883493287017), (220, 0.27226890012810906), (225, 0.3488811713970828), (230, 0.27211536017838645), (235, 0.24611380796838872), (240, 0.34279550095119854), (245, 0.421223801440125), (250, 0.4579756917467953), (255, 0.5047925419948365), (260, 0.4930741170636248), (265, 0.7254327527479637), (270, 0.8340168684563617), (275, 0.6051122630498939), (280, 0.6025003465051331), (285, 0.47785071842510884), (290, 0.5220914518060016), (295, 0.36019820299264027)]\n"
     ]
    },
    {
     "data": {
      "image/png": "[encoded data removed]",
      "text/plain": [
       "<Figure size 432x288 with 1 Axes>"
      ]
     },
     "metadata": {
      "needs_background": "light"
     },
     "output_type": "display_data"
    }
   ],
   "source": [
    "filename = 'ResNet16_bestmodel.pkl'\n",
    "# filename = 'MNL0_bestmodel.pkl'\n",
    "\n",
    "with open(filename, 'rb') as f:\n",
    "    data = pickle.load(f)\n",
    "    \n",
    "model, config, model_stat = data\n",
    "\n",
    "batch_size = config['batch_size']\n",
    "# car:0, bike:1, transit:2, walk:3\n",
    "mode = 3\n",
    "\n",
    "dpdx = T.grad(model.output[:, mode].sum(axis=0), model.input, disconnected_inputs='ignore')\n",
    "model.point_elastic = function(\n",
    "    inputs=[],\n",
    "    outputs=[dpdx, model.output],\n",
    "    allow_input_downcast=True,\n",
    "    givens={\n",
    "        model.input: train_x_shared,\n",
    "    },\n",
    ")\n",
    "\n",
    "x_in = train_x_data.iloc[:, 10].values\n",
    "pnt_dydW, pnt_prob = model.point_elastic()\n",
    "\n",
    "point_elasticity = pnt_dydW[:, 10] * x_in/pnt_prob[:, mode]\n",
    "print('disaggregate point elasticity:', point_elasticity)\n",
    "\n",
    "agg_point_elasticity = (point_elasticity * pnt_prob[:, mode]/pnt_prob.mean(axis=0)[0]).mean()\n",
    "print('aggregate point elasticity:', agg_point_elasticity)\n",
    "\n",
    "plt.hist(point_elasticity, bins='auto', range=(-2,2))\n",
    "plt.show()\n",
    "\n",
    "list_agg_arc_el = []\n",
    "for i in range(10, 300, 5):\n",
    "    x_data_2 = raw_data.iloc[:, 1:-1]\n",
    "    x_data_2.loc[:, 'trip_dist'] = x_data_2.loc[:, 'trip_dist'] * i/100.\n",
    "    train_x_data_2, _ = x_data_2.iloc[:slice], x_data_2.iloc[slice:]\n",
    "    train_y_data_2, _ = y_data.iloc[:slice], y_data.iloc[slice:]\n",
    "    train_x_shared_2, _ = shared_dataset(train_x_data_2, train_y_data_2)\n",
    "\n",
    "    model.arc_elastic = function(\n",
    "        inputs=[],\n",
    "        outputs=[dpdx, model.output],\n",
    "        allow_input_downcast=True,\n",
    "        givens={\n",
    "            model.input: train_x_shared_2,\n",
    "        },\n",
    "    )\n",
    "\n",
    "    arc_dydW, arc_prob = model.arc_elastic()\n",
    "    # print(e_dydW, e_prob)\n",
    "    x_in = train_x_data_2.iloc[:, 10].values # uncomment for point elasticities\n",
    "    arc_elasticity = arc_dydW[:, 10] * x_in/pnt_prob[:, mode]\n",
    "    # print('disaggregate arc elasticity:', arc_elasticity)\n",
    "\n",
    "    agg_arc_elasticity = (arc_elasticity * pnt_prob[:, mode]/pnt_prob.mean(axis=0)[0]).mean()\n",
    "    # print('aggregate point elasticity:', agg_arc_elasticity)\n",
    "    list_agg_arc_el.append((i, agg_arc_elasticity))\n",
    "\n",
    "print(list_agg_arc_el)\n",
    "\n",
    "import matplotlib.pyplot as plt\n",
    "plt.plot(*zip(*list_agg_arc_el), '.-')\n",
    "plt.show()"
   ]
  },
  {
   "cell_type": "markdown",
   "metadata": {},
   "source": [
    "# Auto+Transit elasticity profile (MNL)"
   ]
  },
  {
   "cell_type": "code",
   "execution_count": 26,
   "metadata": {
    "jupyter": {
     "source_hidden": true
    }
   },
   "outputs": [
    {
     "name": "stdout",
     "output_type": "stream",
     "text": [
      "disaggregate point elasticity: [0.46273673 0.40489491 0.73872869 ... 0.12603451 0.30331629 0.07379372]\n",
      "aggregate point elasticity: 0.00965636372506017\n"
     ]
    },
    {
     "data": {
      "image/png": "[encoded data removed]",
      "text/plain": [
       "<Figure size 432x288 with 1 Axes>"
      ]
     },
     "metadata": {
      "needs_background": "light"
     },
     "output_type": "display_data"
    },
    {
     "name": "stdout",
     "output_type": "stream",
     "text": [
      "[(10, 0.0027355375989567415), (15, 0.004122116125823086), (20, 0.0054310853965728895), (25, 0.006607237350933202), (30, 0.0076140218922016115), (35, 0.00843546998744972), (40, 0.009073727617399453), (45, 0.009544045745853783), (50, 0.009869171997793778), (55, 0.01007451920786999), (60, 0.010184776285106079), (65, 0.01022204276161016), (70, 0.010205179771401493), (75, 0.010149856039347706), (80, 0.010068815411629399), (85, 0.009972158775442986), (90, 0.009867641015271352), (95, 0.009761008789441566), (100, 0.00965636372506017), (105, 0.00955652056032575), (110, 0.00946333423413857), (115, 0.009377976384726846), (120, 0.009301150385221372), (125, 0.009233245283150771), (130, 0.009174438533314892), (135, 0.009124761715190931), (140, 0.009084142559708271), (145, 0.009052433019943936), (150, 0.009029429330793842), (155, 0.00901488727998759), (160, 0.009008534342239092), (165, 0.009010079519734607), (170, 0.00901922133187181), (175, 0.009035654211593322), (180, 0.009059073498807326), (185, 0.009089179212963995), (190, 0.009125678794636138), (195, 0.009168289006591394), (200, 0.009216737171871619), (205, 0.009270761903238268), (210, 0.00933011345127125), (215, 0.009394553772441826), (220, 0.00946385639620555), (225, 0.009537806152179343), (230, 0.009616198804292176), (235, 0.009698840627603773), (240, 0.009785547954519939), (245, 0.009876146709868609), (250, 0.009970471948416985), (255, 0.010068367403722012), (260, 0.010169685053586614), (265, 0.010274284704725389), (270, 0.01038203359739485), (275, 0.010492806029569557), (280, 0.010606482999595634), (285, 0.010722951865983144), (290, 0.010842106022981616), (295, 0.01096384459071478)]\n"
     ]
    },
    {
     "data": {
      "image/png": "[encoded data removed]",
      "text/plain": [
       "<Figure size 432x288 with 1 Axes>"
      ]
     },
     "metadata": {
      "needs_background": "light"
     },
     "output_type": "display_data"
    }
   ],
   "source": [
    "# filename = 'ResNet16_bestmodel.pkl'\n",
    "filename = 'MNL0_bestmodel.pkl'\n",
    "\n",
    "with open(filename, 'rb') as f:\n",
    "    data = pickle.load(f)\n",
    "    \n",
    "model, config, model_stat = data\n",
    "\n",
    "batch_size = config['batch_size']\n",
    "# car:0, bike:1, transit:2, walk:3\n",
    "mode = 4\n",
    "\n",
    "dpdx = T.grad(model.output[:, mode].sum(axis=0), model.input, disconnected_inputs='ignore')\n",
    "model.point_elastic = function(\n",
    "    inputs=[],\n",
    "    outputs=[dpdx, model.output],\n",
    "    allow_input_downcast=True,\n",
    "    givens={\n",
    "        model.input: train_x_shared,\n",
    "    },\n",
    ")\n",
    "\n",
    "x_in = train_x_data.iloc[:, 10].values\n",
    "pnt_dydW, pnt_prob = model.point_elastic()\n",
    "\n",
    "point_elasticity = pnt_dydW[:, 10] * x_in/pnt_prob[:, mode]\n",
    "print('disaggregate point elasticity:', point_elasticity)\n",
    "\n",
    "agg_point_elasticity = (point_elasticity * pnt_prob[:, mode]/pnt_prob.mean(axis=0)[0]).mean()\n",
    "print('aggregate point elasticity:', agg_point_elasticity)\n",
    "\n",
    "plt.hist(point_elasticity, bins='auto', range=(-2,2))\n",
    "plt.show()\n",
    "\n",
    "list_agg_arc_el = []\n",
    "for i in range(10, 300, 5):\n",
    "    x_data_2 = raw_data.iloc[:, 1:-1]\n",
    "    x_data_2.loc[:, 'trip_dist'] = x_data_2.loc[:, 'trip_dist'] * i/100.\n",
    "    train_x_data_2, _ = x_data_2.iloc[:slice], x_data_2.iloc[slice:]\n",
    "    train_y_data_2, _ = y_data.iloc[:slice], y_data.iloc[slice:]\n",
    "    train_x_shared_2, _ = shared_dataset(train_x_data_2, train_y_data_2)\n",
    "\n",
    "    model.arc_elastic = function(\n",
    "        inputs=[],\n",
    "        outputs=[dpdx, model.output],\n",
    "        allow_input_downcast=True,\n",
    "        givens={\n",
    "            model.input: train_x_shared_2,\n",
    "        },\n",
    "    )\n",
    "\n",
    "    arc_dydW, arc_prob = model.arc_elastic()\n",
    "    # print(e_dydW, e_prob)\n",
    "    x_in = train_x_data_2.iloc[:, 10].values # uncomment for point elasticities\n",
    "    arc_elasticity = arc_dydW[:, 10] * x_in/pnt_prob[:, mode]\n",
    "    # print('disaggregate arc elasticity:', arc_elasticity)\n",
    "\n",
    "    agg_arc_elasticity = (arc_elasticity * pnt_prob[:, mode]/pnt_prob.mean(axis=0)[0]).mean()\n",
    "    # print('aggregate point elasticity:', agg_arc_elasticity)\n",
    "    list_agg_arc_el.append((i, agg_arc_elasticity))\n",
    "\n",
    "print(list_agg_arc_el)\n",
    "\n",
    "import matplotlib.pyplot as plt\n",
    "plt.plot(*zip(*list_agg_arc_el), '.-')\n",
    "plt.show()"
   ]
  },
  {
   "cell_type": "markdown",
   "metadata": {},
   "source": [
    "# Auto+Transit elasticity profile (ResLogit)"
   ]
  },
  {
   "cell_type": "code",
   "execution_count": 27,
   "metadata": {
    "jupyter": {
     "source_hidden": true
    }
   },
   "outputs": [
    {
     "name": "stdout",
     "output_type": "stream",
     "text": [
      "disaggregate point elasticity: [2.53474098 3.3057498  2.22553026 ... 1.35042919 2.53858242 0.15527193]\n",
      "aggregate point elasticity: 0.07948555262658352\n"
     ]
    },
    {
     "data": {
      "image/png": "[encoded data removed]",
      "text/plain": [
       "<Figure size 432x288 with 1 Axes>"
      ]
     },
     "metadata": {
      "needs_background": "light"
     },
     "output_type": "display_data"
    },
    {
     "name": "stdout",
     "output_type": "stream",
     "text": [
      "[(10, 0.0030179379168225177), (15, 0.004997972643821274), (20, 0.007104587692384567), (25, 0.009052242936575208), (30, 0.010414102065544883), (35, 0.01063675385193602), (40, 0.009046275462034256), (45, 0.0047661466225878855), (50, -0.0029332262136818063), (55, -0.014222485270564581), (60, -0.027465041000646107), (65, -0.03763848832700737), (70, -0.03807553129045546), (75, -0.022107261221023727), (80, 0.004167332245783193), (85, 0.027368352045284438), (90, 0.046647207130221434), (95, 0.062352352541006476), (100, 0.07948555262658352), (105, 0.0963075629063261), (110, 0.10520067183402716), (115, 0.10834347872975336), (120, 0.10393684898065551), (125, 0.09132635083159826), (130, 0.07207310683445738), (135, 0.048652206420300985), (140, 0.023513491139032557), (145, -0.0015616561462139058), (150, -0.02538557537283384), (155, -0.04731922050468474), (160, -0.06695291293826186), (165, -0.08390993420246358), (170, -0.09780478301978376), (175, -0.10834461878992893), (180, -0.11543686628289102), (185, -0.11924728339827581), (190, -0.12021322425622336), (195, -0.11890393819107586), (200, -0.11601119682196985), (205, -0.11203135073180816), (210, -0.10757296027261438), (215, -0.10281563381584423), (220, -0.0978750419770958), (225, -0.0929507805861933), (230, -0.08829775561744913), (235, -0.08354461011839052), (240, -0.07894209529769211), (245, -0.07454789972762346), (250, -0.07046841063184042), (255, -0.06682623100809794), (260, -0.06299863416788168), (265, -0.05940409851470549), (270, -0.05596569603648419), (275, -0.05366122087385743), (280, -0.05062823453236222), (285, -0.04824167969650287), (290, -0.04580498915919448), (295, -0.04352473689432964)]\n"
     ]
    },
    {
     "data": {
      "image/png": "[encoded data removed]",
      "text/plain": [
       "<Figure size 432x288 with 1 Axes>"
      ]
     },
     "metadata": {
      "needs_background": "light"
     },
     "output_type": "display_data"
    }
   ],
   "source": [
    "filename = 'ResNet16_bestmodel.pkl'\n",
    "# filename = 'MNL0_bestmodel.pkl'\n",
    "\n",
    "with open(filename, 'rb') as f:\n",
    "    data = pickle.load(f)\n",
    "    \n",
    "model, config, model_stat = data\n",
    "\n",
    "batch_size = config['batch_size']\n",
    "# car:0, bike:1, transit:2, walk:3\n",
    "mode = 4\n",
    "\n",
    "dpdx = T.grad(model.output[:, mode].sum(axis=0), model.input, disconnected_inputs='ignore')\n",
    "model.point_elastic = function(\n",
    "    inputs=[],\n",
    "    outputs=[dpdx, model.output],\n",
    "    allow_input_downcast=True,\n",
    "    givens={\n",
    "        model.input: train_x_shared,\n",
    "    },\n",
    ")\n",
    "\n",
    "x_in = train_x_data.iloc[:, 10].values\n",
    "pnt_dydW, pnt_prob = model.point_elastic()\n",
    "\n",
    "point_elasticity = pnt_dydW[:, 10] * x_in/pnt_prob[:, mode]\n",
    "print('disaggregate point elasticity:', point_elasticity)\n",
    "\n",
    "agg_point_elasticity = (point_elasticity * pnt_prob[:, mode]/pnt_prob.mean(axis=0)[0]).mean()\n",
    "print('aggregate point elasticity:', agg_point_elasticity)\n",
    "\n",
    "plt.hist(point_elasticity, bins='auto', range=(-2,2))\n",
    "plt.show()\n",
    "\n",
    "list_agg_arc_el = []\n",
    "for i in range(10, 300, 5):\n",
    "    x_data_2 = raw_data.iloc[:, 1:-1]\n",
    "    x_data_2.loc[:, 'trip_dist'] = x_data_2.loc[:, 'trip_dist'] * i/100.\n",
    "    train_x_data_2, _ = x_data_2.iloc[:slice], x_data_2.iloc[slice:]\n",
    "    train_y_data_2, _ = y_data.iloc[:slice], y_data.iloc[slice:]\n",
    "    train_x_shared_2, _ = shared_dataset(train_x_data_2, train_y_data_2)\n",
    "\n",
    "    model.arc_elastic = function(\n",
    "        inputs=[],\n",
    "        outputs=[dpdx, model.output],\n",
    "        allow_input_downcast=True,\n",
    "        givens={\n",
    "            model.input: train_x_shared_2,\n",
    "        },\n",
    "    )\n",
    "\n",
    "    arc_dydW, arc_prob = model.arc_elastic()\n",
    "    # print(e_dydW, e_prob)\n",
    "    x_in = train_x_data_2.iloc[:, 10].values # uncomment for point elasticities\n",
    "    arc_elasticity = arc_dydW[:, 10] * x_in/pnt_prob[:, mode]\n",
    "    # print('disaggregate arc elasticity:', arc_elasticity)\n",
    "\n",
    "    agg_arc_elasticity = (arc_elasticity * pnt_prob[:, mode]/pnt_prob.mean(axis=0)[0]).mean()\n",
    "    # print('aggregate point elasticity:', agg_arc_elasticity)\n",
    "    list_agg_arc_el.append((i, agg_arc_elasticity))\n",
    "\n",
    "print(list_agg_arc_el)\n",
    "\n",
    "import matplotlib.pyplot as plt\n",
    "plt.plot(*zip(*list_agg_arc_el), '.-')\n",
    "plt.show()"
   ]
  }
 ],
 "metadata": {
  "kernelspec": {
   "display_name": "Python 3",
   "language": "python",
   "name": "python3"
  },
  "language_info": {
   "codemirror_mode": {
    "name": "ipython",
    "version": 3
   },
   "file_extension": ".py",
   "mimetype": "text/x-python",
   "name": "python",
   "nbconvert_exporter": "python",
   "pygments_lexer": "ipython3",
   "version": "3.8.5"
  }
 },
 "nbformat": 4,
 "nbformat_minor": 4
}
